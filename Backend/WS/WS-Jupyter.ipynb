{
 "cells": [
  {
   "cell_type": "code",
   "execution_count": 145,
   "metadata": {},
   "outputs": [],
   "source": [
    "import pandas as pd\n",
    "import numpy as np\n",
    "import matplotlib.pyplot as plt\n",
    "import seaborn as sns\n",
    "%matplotlib inline"
   ]
  },
  {
   "cell_type": "markdown",
   "metadata": {},
   "source": [
    "# Vars de Controle"
   ]
  },
  {
   "cell_type": "code",
   "execution_count": 259,
   "metadata": {},
   "outputs": [],
   "source": [
    "path = 'final.csv'\n",
    "drop = [0, 1, 4, 5, 6, 7, 8, 10, 11, 12, 13, 14, 15, 16, 17, 18, 19, 21, 22, 23, 24, 25, 26, 28, 29, 30]\n",
    "prever = [0, 1, -1] #Indices do novo DF!!!"
   ]
  },
  {
   "cell_type": "markdown",
   "metadata": {},
   "source": [
    "Globais"
   ]
  },
  {
   "cell_type": "code",
   "execution_count": 260,
   "metadata": {},
   "outputs": [],
   "source": [
    "normalizer = -1"
   ]
  },
  {
   "cell_type": "markdown",
   "metadata": {},
   "source": [
    "# Iniciando / Droppando colunas"
   ]
  },
  {
   "cell_type": "code",
   "execution_count": 261,
   "metadata": {},
   "outputs": [
    {
     "data": {
      "text/plain": [
       "Index(['Unnamed: 0', 'Name', 'Cases', 'Deaths', 'Code', 'Latitude',\n",
       "       'Longitude', 'Population', 'Area', 'Demographic_Density',\n",
       "       'Access to electricity (% of population)',\n",
       "       'Adjusted net national income per capita (current US$)',\n",
       "       'Air transport, passengers carried', 'Children out of school, primary',\n",
       "       'Current health expenditure per capita (current US$)',\n",
       "       'Domestic private health expenditure per capita (current US$)',\n",
       "       'Employers, total (% of total employment) (modeled ILO estimate)',\n",
       "       'GNI, Atlas method (current US$)',\n",
       "       'GNI per capita, Atlas method (current US$)',\n",
       "       'Government expenditure on education, total (% of GDP)',\n",
       "       'Hospital beds (per 1,000 people)',\n",
       "       'Incidence of tuberculosis (per 100,000 people)',\n",
       "       'Individuals using the Internet (% of population)',\n",
       "       'International tourism, number of arrivals',\n",
       "       'Life expectancy at birth, total (years)',\n",
       "       'Nurses and midwives (per 1,000 people)',\n",
       "       'Population ages 0-14 (% of total population)',\n",
       "       'Population ages 65 and above (% of total population)',\n",
       "       'Population density (people per sq. km of land area)',\n",
       "       'Rural population (% of total population)',\n",
       "       'Tuberculosis case detection rate (%, all forms)',\n",
       "       'Urban population (% of total population)'],\n",
       "      dtype='object')"
      ]
     },
     "execution_count": 261,
     "metadata": {},
     "output_type": "execute_result"
    }
   ],
   "source": [
    "df = pd.read_csv(path)\n",
    "df.columns"
   ]
  },
  {
   "cell_type": "code",
   "execution_count": 262,
   "metadata": {},
   "outputs": [],
   "source": [
    "df.drop(df.columns[drop], axis=1, inplace=True)\n",
    "cs = df.columns"
   ]
  },
  {
   "cell_type": "code",
   "execution_count": 230,
   "metadata": {},
   "outputs": [
    {
     "data": {
      "text/html": [
       "<div>\n",
       "<style scoped>\n",
       "    .dataframe tbody tr th:only-of-type {\n",
       "        vertical-align: middle;\n",
       "    }\n",
       "\n",
       "    .dataframe tbody tr th {\n",
       "        vertical-align: top;\n",
       "    }\n",
       "\n",
       "    .dataframe thead th {\n",
       "        text-align: right;\n",
       "    }\n",
       "</style>\n",
       "<table border=\"1\" class=\"dataframe\">\n",
       "  <thead>\n",
       "    <tr style=\"text-align: right;\">\n",
       "      <th></th>\n",
       "      <th>Cases</th>\n",
       "      <th>Deaths</th>\n",
       "      <th>Demographic_Density</th>\n",
       "      <th>Hospital beds (per 1,000 people)</th>\n",
       "      <th>Population ages 65 and above (% of total population)</th>\n",
       "      <th>Urban population (% of total population)</th>\n",
       "    </tr>\n",
       "  </thead>\n",
       "  <tbody>\n",
       "    <tr>\n",
       "      <td>0</td>\n",
       "      <td>9267</td>\n",
       "      <td>646</td>\n",
       "      <td>16.962382</td>\n",
       "      <td>1.9</td>\n",
       "      <td>6.362497</td>\n",
       "      <td>72.629</td>\n",
       "    </tr>\n",
       "    <tr>\n",
       "      <td>1</td>\n",
       "      <td>84</td>\n",
       "      <td>4</td>\n",
       "      <td>20.749178</td>\n",
       "      <td>0.8</td>\n",
       "      <td>2.216374</td>\n",
       "      <td>65.514</td>\n",
       "    </tr>\n",
       "    <tr>\n",
       "      <td>2</td>\n",
       "      <td>16214</td>\n",
       "      <td>528</td>\n",
       "      <td>15.677744</td>\n",
       "      <td>5.0</td>\n",
       "      <td>11.117789</td>\n",
       "      <td>91.870</td>\n",
       "    </tr>\n",
       "    <tr>\n",
       "      <td>3</td>\n",
       "      <td>8927</td>\n",
       "      <td>127</td>\n",
       "      <td>100.675789</td>\n",
       "      <td>4.2</td>\n",
       "      <td>11.253818</td>\n",
       "      <td>63.149</td>\n",
       "    </tr>\n",
       "    <tr>\n",
       "      <td>4</td>\n",
       "      <td>7192</td>\n",
       "      <td>103</td>\n",
       "      <td>3.135372</td>\n",
       "      <td>3.8</td>\n",
       "      <td>15.656475</td>\n",
       "      <td>86.012</td>\n",
       "    </tr>\n",
       "    <tr>\n",
       "      <td>...</td>\n",
       "      <td>...</td>\n",
       "      <td>...</td>\n",
       "      <td>...</td>\n",
       "      <td>...</td>\n",
       "      <td>...</td>\n",
       "      <td>...</td>\n",
       "    </tr>\n",
       "    <tr>\n",
       "      <td>117</td>\n",
       "      <td>852</td>\n",
       "      <td>46</td>\n",
       "      <td>98.628952</td>\n",
       "      <td>0.4</td>\n",
       "      <td>2.966556</td>\n",
       "      <td>42.055</td>\n",
       "    </tr>\n",
       "    <tr>\n",
       "      <td>118</td>\n",
       "      <td>6</td>\n",
       "      <td>0</td>\n",
       "      <td>406.685783</td>\n",
       "      <td>4.7</td>\n",
       "      <td>19.196193</td>\n",
       "      <td>91.490</td>\n",
       "    </tr>\n",
       "    <tr>\n",
       "      <td>119</td>\n",
       "      <td>279</td>\n",
       "      <td>4</td>\n",
       "      <td>142.069056</td>\n",
       "      <td>1.3</td>\n",
       "      <td>2.645435</td>\n",
       "      <td>16.937</td>\n",
       "    </tr>\n",
       "    <tr>\n",
       "      <td>120</td>\n",
       "      <td>479</td>\n",
       "      <td>12</td>\n",
       "      <td>194.352697</td>\n",
       "      <td>2.9</td>\n",
       "      <td>2.925678</td>\n",
       "      <td>72.803</td>\n",
       "    </tr>\n",
       "    <tr>\n",
       "      <td>121</td>\n",
       "      <td>310</td>\n",
       "      <td>77</td>\n",
       "      <td>52.044821</td>\n",
       "      <td>0.7</td>\n",
       "      <td>2.876270</td>\n",
       "      <td>36.642</td>\n",
       "    </tr>\n",
       "  </tbody>\n",
       "</table>\n",
       "<p>122 rows × 6 columns</p>\n",
       "</div>"
      ],
      "text/plain": [
       "     Cases  Deaths  Demographic_Density  Hospital beds (per 1,000 people)  \\\n",
       "0     9267     646            16.962382                               1.9   \n",
       "1       84       4            20.749178                               0.8   \n",
       "2    16214     528            15.677744                               5.0   \n",
       "3     8927     127           100.675789                               4.2   \n",
       "4     7192     103             3.135372                               3.8   \n",
       "..     ...     ...                  ...                               ...   \n",
       "117    852      46            98.628952                               0.4   \n",
       "118      6       0           406.685783                               4.7   \n",
       "119    279       4           142.069056                               1.3   \n",
       "120    479      12           194.352697                               2.9   \n",
       "121    310      77            52.044821                               0.7   \n",
       "\n",
       "     Population ages 65 and above (% of total population)  \\\n",
       "0                                             6.362497      \n",
       "1                                             2.216374      \n",
       "2                                            11.117789      \n",
       "3                                            11.253818      \n",
       "4                                            15.656475      \n",
       "..                                                 ...      \n",
       "117                                           2.966556      \n",
       "118                                          19.196193      \n",
       "119                                           2.645435      \n",
       "120                                           2.925678      \n",
       "121                                           2.876270      \n",
       "\n",
       "     Urban population (% of total population)  \n",
       "0                                      72.629  \n",
       "1                                      65.514  \n",
       "2                                      91.870  \n",
       "3                                      63.149  \n",
       "4                                      86.012  \n",
       "..                                        ...  \n",
       "117                                    42.055  \n",
       "118                                    91.490  \n",
       "119                                    16.937  \n",
       "120                                    72.803  \n",
       "121                                    36.642  \n",
       "\n",
       "[122 rows x 6 columns]"
      ]
     },
     "execution_count": 230,
     "metadata": {},
     "output_type": "execute_result"
    }
   ],
   "source": [
    "df"
   ]
  },
  {
   "cell_type": "markdown",
   "metadata": {},
   "source": [
    "# Normalizando"
   ]
  },
  {
   "cell_type": "code",
   "execution_count": 231,
   "metadata": {},
   "outputs": [],
   "source": [
    "from sklearn import preprocessing\n",
    "normalizer = preprocessing.Normalizer().fit(df)\n",
    "df = normalizer.transform(df)\n",
    "df = pd.DataFrame(df, columns = cs)"
   ]
  },
  {
   "cell_type": "markdown",
   "metadata": {},
   "source": [
    "# Treinando"
   ]
  },
  {
   "cell_type": "markdown",
   "metadata": {},
   "source": [
    "1° Prever"
   ]
  },
  {
   "cell_type": "code",
   "execution_count": null,
   "metadata": {},
   "outputs": [],
   "source": [
    "from sklearn.model_selection import train_test_split"
   ]
  },
  {
   "cell_type": "code",
   "execution_count": 253,
   "metadata": {},
   "outputs": [],
   "source": [
    "x_train, x_test, y_train, y_test = train_test_split(df.drop(df.columns[prever], axis=1), \n",
    "                                                    df.iloc[:,prever[0]], test_size=0.30)"
   ]
  },
  {
   "cell_type": "code",
   "execution_count": 254,
   "metadata": {},
   "outputs": [
    {
     "data": {
      "text/plain": [
       "array([-0.42313745,  1.4419934 , -3.34656054, -0.29599728])"
      ]
     },
     "execution_count": 254,
     "metadata": {},
     "output_type": "execute_result"
    }
   ],
   "source": [
    "from sklearn.linear_model import LinearRegression\n",
    "lm0 = LinearRegression()\n",
    "lm0.fit(x_train, y_train)\n",
    "predict = lm0.predict(x_test)\n",
    "\n",
    "lm0.coef_"
   ]
  },
  {
   "cell_type": "code",
   "execution_count": 234,
   "metadata": {},
   "outputs": [
    {
     "name": "stdout",
     "output_type": "stream",
     "text": [
      "0.0019237643562585172\n",
      "0.25386614671847185\n",
      "[[0.5825960677934162, 0.32872992107494436], [0.9977260869250566, 0.9958023225687981], [0.9929389155546422, 0.9447619625975707], [0.9998093393181493, 1.0281765166618062], [0.9990533270705534, 1.0360213740089963], [0.9898880638416813, 1.0397195619947106], [0.998330947749758, 1.0404524333985672], [0.9626785132449622, 0.8238086271281839], [0.9558033822899726, 0.8405721984548116], [0.9752186141203976, 0.9116074031402852], [0.9809081928662192, 0.855064749119061], [0.9804763656554136, 0.8957984524118271], [0.44874142544593487, 0.6300126404601123], [0.9984137370322346, 1.0079325234802043], [0.9962824820522002, 1.0387455343937255], [0.011997710282383483, 0.16623415013950738], [0.998120409825835, 0.9890784083518641], [0.8245115078467217, 0.7019494617180864], [0.9936330518238382, 1.0400356288201058], [0.9980459219146721, 1.0343299893680797], [0.9517576759254114, 0.895943398915894], [0.9965184563113291, 0.9555966951082608], [0.9981265532115411, 1.0363691691906625], [0.9975164344509935, 1.0209024428287896], [0.5577743534171873, 0.3745098530384817], [0.9989277872161721, 1.011315530928728], [0.9993988057580281, 1.0321965209044486], [0.9995575837376478, 1.0308711994836288], [0.9975466908252187, 1.0355635391006357], [0.9988349969137482, 1.001212148495696], [0.9990476359182338, 1.0267504930278168], [0.9938137691680294, 1.039713300783561], [0.9997811014988159, 1.0386260331537902], [0.8129201484805222, 0.5919522800692348], [0.9995410379961313, 1.035503737926409], [0.9978041747985992, 1.0361790432376246], [0.9998522555766367, 1.0291275908318462]]\n"
     ]
    }
   ],
   "source": [
    "res = []\n",
    "y_true = y_test.to_list()\n",
    "\n",
    "mini =  999\n",
    "maxi = -999\n",
    "\n",
    "i = 0\n",
    "\n",
    "for i in range(0, len(predict)):\n",
    "    n = []\n",
    "    \n",
    "    n.append(y_true[i])\n",
    "    n.append(predict[i])\n",
    "    res.append(n)\n",
    "    \n",
    "    dif = abs(y_true[i] - predict[i])\n",
    "    \n",
    "    if dif < mini:\n",
    "        mini = dif\n",
    "    if dif > maxi:\n",
    "        maxi = dif\n",
    "    \n",
    "print(mini)\n",
    "print(maxi)\n",
    "print(res)"
   ]
  },
  {
   "cell_type": "code",
   "execution_count": 235,
   "metadata": {},
   "outputs": [
    {
     "data": {
      "text/plain": [
       "<matplotlib.collections.PathCollection at 0x168592b5a88>"
      ]
     },
     "execution_count": 235,
     "metadata": {},
     "output_type": "execute_result"
    },
    {
     "data": {
      "image/png": "[encoded data removed]",
      "text/plain": [
       "<Figure size 432x288 with 1 Axes>"
      ]
     },
     "metadata": {
      "needs_background": "light"
     },
     "output_type": "display_data"
    }
   ],
   "source": [
    "plt.scatter(y_test * 10, predict * 10)"
   ]
  },
  {
   "cell_type": "markdown",
   "metadata": {},
   "source": [
    "2° Prever"
   ]
  },
  {
   "cell_type": "code",
   "execution_count": 250,
   "metadata": {},
   "outputs": [],
   "source": [
    "x_train, x_test, y_train, y_test = train_test_split(df.drop(df.columns[prever], axis=1), \n",
    "                                                    df.iloc[:,prever[1]], test_size=0.30)"
   ]
  },
  {
   "cell_type": "code",
   "execution_count": 251,
   "metadata": {},
   "outputs": [
    {
     "data": {
      "text/plain": [
       "array([-0.04648107, -0.81670471, -0.07441948,  0.00894677])"
      ]
     },
     "execution_count": 251,
     "metadata": {},
     "output_type": "execute_result"
    }
   ],
   "source": [
    "from sklearn.linear_model import LinearRegression\n",
    "lm1 = LinearRegression()\n",
    "lm1.fit(x_train, y_train)\n",
    "predict = lm1.predict(x_test)\n",
    "\n",
    "lm1.coef_"
   ]
  },
  {
   "cell_type": "code",
   "execution_count": 238,
   "metadata": {},
   "outputs": [
    {
     "data": {
      "text/plain": [
       "[[0.004504998576877225, 0.041901725846363556],\n",
       " [0.11760002572665441, 0.042137782984599366],\n",
       " [0.055490905394362224, 0.03655891357742823],\n",
       " [0.027959652691962177, 0.0415994176871642],\n",
       " [0.06565962568575046, 0.04144982405815408],\n",
       " [0.008036691521765685, 0.04059133981854315],\n",
       " [0.01834484995181934, 0.03261403603593463],\n",
       " [0.045836233462474577, 0.042012795213023806],\n",
       " [0.01431893879510385, 0.041687797476144976],\n",
       " [0.012821183584169569, 0.059469340991523185],\n",
       " [0.06091852202699547, 0.04205261739911905],\n",
       " [0.055063266542289546, 0.04154485730008951],\n",
       " [0.03331571262342732, 0.03998332349875536],\n",
       " [0.012042752772044195, 0.04171109976663883],\n",
       " [0.0015527235214268618, 0.03546145803420321],\n",
       " [0.0054970467103456315, 0.04179186271563523],\n",
       " [0.06608266246510038, 0.04194629261253316],\n",
       " [0.02534083620186718, 0.04202855167974772],\n",
       " [0.0728941356942453, 0.03326472402900297],\n",
       " [0.040870498495223145, 0.036718785290457426],\n",
       " [0.07785250173710113, 0.04220849664985308],\n",
       " [0.01162378817632561, 0.04033421625291651],\n",
       " [0.0017633529544811104, 0.0057479032020886014],\n",
       " [0.03890572464218834, 0.04204718476256202],\n",
       " [0.035870880805858936, 0.03703400229911364],\n",
       " [0.0852777906645151, 0.04231582262013093],\n",
       " [0.021506726785735137, 0.041312535260193343],\n",
       " [0.009483657264132209, 0.04016794639975209],\n",
       " [0.007501086360280936, 0.039145139999329184],\n",
       " [0.02621000965288689, 0.0420066581374789],\n",
       " [0.028067381623788752, 0.04224293796791263],\n",
       " [0.03233149930551886, 0.04218596424542713],\n",
       " [0.03682272744338539, 0.06619780243003136],\n",
       " [0.00928755601341501, 0.03798766460286588],\n",
       " [0.04330896017732797, 0.041885230010734555],\n",
       " [0.07744012048943835, 0.025910197141854104],\n",
       " [0.016686664596853255, 0.04116054914922248]]"
      ]
     },
     "execution_count": 238,
     "metadata": {},
     "output_type": "execute_result"
    }
   ],
   "source": [
    "res = []\n",
    "y_true = y_test.to_list()\n",
    "\n",
    "mini =  999\n",
    "maxi = -999\n",
    "\n",
    "i = 0\n",
    "\n",
    "for i in range(0, len(predict)):\n",
    "    n = []\n",
    "    \n",
    "    n.append(y_true[i])\n",
    "    n.append(predict[i])\n",
    "    res.append(n)\n",
    "    \n",
    "res"
   ]
  },
  {
   "cell_type": "code",
   "execution_count": 263,
   "metadata": {
    "scrolled": true
   },
   "outputs": [
    {
     "data": {
      "text/html": [
       "<div>\n",
       "<style scoped>\n",
       "    .dataframe tbody tr th:only-of-type {\n",
       "        vertical-align: middle;\n",
       "    }\n",
       "\n",
       "    .dataframe tbody tr th {\n",
       "        vertical-align: top;\n",
       "    }\n",
       "\n",
       "    .dataframe thead th {\n",
       "        text-align: right;\n",
       "    }\n",
       "</style>\n",
       "<table border=\"1\" class=\"dataframe\">\n",
       "  <thead>\n",
       "    <tr style=\"text-align: right;\">\n",
       "      <th></th>\n",
       "      <th>Cases</th>\n",
       "      <th>Deaths</th>\n",
       "      <th>Demographic_Density</th>\n",
       "      <th>Hospital beds (per 1,000 people)</th>\n",
       "      <th>Population ages 65 and above (% of total population)</th>\n",
       "      <th>Urban population (% of total population)</th>\n",
       "    </tr>\n",
       "  </thead>\n",
       "  <tbody>\n",
       "    <tr>\n",
       "      <td>0</td>\n",
       "      <td>9267</td>\n",
       "      <td>646</td>\n",
       "      <td>16.962382</td>\n",
       "      <td>1.9</td>\n",
       "      <td>6.362497</td>\n",
       "      <td>72.629</td>\n",
       "    </tr>\n",
       "    <tr>\n",
       "      <td>1</td>\n",
       "      <td>84</td>\n",
       "      <td>4</td>\n",
       "      <td>20.749178</td>\n",
       "      <td>0.8</td>\n",
       "      <td>2.216374</td>\n",
       "      <td>65.514</td>\n",
       "    </tr>\n",
       "    <tr>\n",
       "      <td>2</td>\n",
       "      <td>16214</td>\n",
       "      <td>528</td>\n",
       "      <td>15.677744</td>\n",
       "      <td>5.0</td>\n",
       "      <td>11.117789</td>\n",
       "      <td>91.870</td>\n",
       "    </tr>\n",
       "    <tr>\n",
       "      <td>3</td>\n",
       "      <td>8927</td>\n",
       "      <td>127</td>\n",
       "      <td>100.675789</td>\n",
       "      <td>4.2</td>\n",
       "      <td>11.253818</td>\n",
       "      <td>63.149</td>\n",
       "    </tr>\n",
       "    <tr>\n",
       "      <td>4</td>\n",
       "      <td>7192</td>\n",
       "      <td>103</td>\n",
       "      <td>3.135372</td>\n",
       "      <td>3.8</td>\n",
       "      <td>15.656475</td>\n",
       "      <td>86.012</td>\n",
       "    </tr>\n",
       "    <tr>\n",
       "      <td>...</td>\n",
       "      <td>...</td>\n",
       "      <td>...</td>\n",
       "      <td>...</td>\n",
       "      <td>...</td>\n",
       "      <td>...</td>\n",
       "      <td>...</td>\n",
       "    </tr>\n",
       "    <tr>\n",
       "      <td>117</td>\n",
       "      <td>852</td>\n",
       "      <td>46</td>\n",
       "      <td>98.628952</td>\n",
       "      <td>0.4</td>\n",
       "      <td>2.966556</td>\n",
       "      <td>42.055</td>\n",
       "    </tr>\n",
       "    <tr>\n",
       "      <td>118</td>\n",
       "      <td>6</td>\n",
       "      <td>0</td>\n",
       "      <td>406.685783</td>\n",
       "      <td>4.7</td>\n",
       "      <td>19.196193</td>\n",
       "      <td>91.490</td>\n",
       "    </tr>\n",
       "    <tr>\n",
       "      <td>119</td>\n",
       "      <td>279</td>\n",
       "      <td>4</td>\n",
       "      <td>142.069056</td>\n",
       "      <td>1.3</td>\n",
       "      <td>2.645435</td>\n",
       "      <td>16.937</td>\n",
       "    </tr>\n",
       "    <tr>\n",
       "      <td>120</td>\n",
       "      <td>479</td>\n",
       "      <td>12</td>\n",
       "      <td>194.352697</td>\n",
       "      <td>2.9</td>\n",
       "      <td>2.925678</td>\n",
       "      <td>72.803</td>\n",
       "    </tr>\n",
       "    <tr>\n",
       "      <td>121</td>\n",
       "      <td>310</td>\n",
       "      <td>77</td>\n",
       "      <td>52.044821</td>\n",
       "      <td>0.7</td>\n",
       "      <td>2.876270</td>\n",
       "      <td>36.642</td>\n",
       "    </tr>\n",
       "  </tbody>\n",
       "</table>\n",
       "<p>122 rows × 6 columns</p>\n",
       "</div>"
      ],
      "text/plain": [
       "     Cases  Deaths  Demographic_Density  Hospital beds (per 1,000 people)  \\\n",
       "0     9267     646            16.962382                               1.9   \n",
       "1       84       4            20.749178                               0.8   \n",
       "2    16214     528            15.677744                               5.0   \n",
       "3     8927     127           100.675789                               4.2   \n",
       "4     7192     103             3.135372                               3.8   \n",
       "..     ...     ...                  ...                               ...   \n",
       "117    852      46            98.628952                               0.4   \n",
       "118      6       0           406.685783                               4.7   \n",
       "119    279       4           142.069056                               1.3   \n",
       "120    479      12           194.352697                               2.9   \n",
       "121    310      77            52.044821                               0.7   \n",
       "\n",
       "     Population ages 65 and above (% of total population)  \\\n",
       "0                                             6.362497      \n",
       "1                                             2.216374      \n",
       "2                                            11.117789      \n",
       "3                                            11.253818      \n",
       "4                                            15.656475      \n",
       "..                                                 ...      \n",
       "117                                           2.966556      \n",
       "118                                          19.196193      \n",
       "119                                           2.645435      \n",
       "120                                           2.925678      \n",
       "121                                           2.876270      \n",
       "\n",
       "     Urban population (% of total population)  \n",
       "0                                      72.629  \n",
       "1                                      65.514  \n",
       "2                                      91.870  \n",
       "3                                      63.149  \n",
       "4                                      86.012  \n",
       "..                                        ...  \n",
       "117                                    42.055  \n",
       "118                                    91.490  \n",
       "119                                    16.937  \n",
       "120                                    72.803  \n",
       "121                                    36.642  \n",
       "\n",
       "[122 rows x 6 columns]"
      ]
     },
     "execution_count": 263,
     "metadata": {},
     "output_type": "execute_result"
    }
   ],
   "source": [
    "df"
   ]
  },
  {
   "cell_type": "markdown",
   "metadata": {},
   "source": [
    "# Classificando novos dados"
   ]
  },
  {
   "cell_type": "code",
   "execution_count": 265,
   "metadata": {},
   "outputs": [],
   "source": [
    "def classify(dd, hb, pa, up):\n",
    "    df_test = normalizer.transform([[dd, hb, pa, up]])\n",
    "    predict = lm0.predict(df_test)\n",
    "    \n",
    "    menorDiferenca = 9999\n",
    "    resulMaisProximo = 0\n",
    "    \n",
    "    for i in range(0, len(df.index)-1):\n",
    "        dife = 0\n",
    "        \n",
    "        for ii in range(3, len(df.columns) - 3):\n",
    "            dife += abs(df.iloc[i, ii] - predict[ii])\n",
    "            \n",
    "        if dife < menorDiferenca:\n",
    "            menorDiferenca = dife\n",
    "            resulMaisProximo = df.iloc[i, 2]\n",
    "            \n",
    "    return resulMaisProximo"
   ]
  },
  {
   "cell_type": "code",
   "execution_count": null,
   "metadata": {},
   "outputs": [],
   "source": []
  }
 ],
 "metadata": {
  "kernelspec": {
   "display_name": "Python 3",
   "language": "python",
   "name": "python3"
  },
  "language_info": {
   "codemirror_mode": {
    "name": "ipython",
    "version": 3
   },
   "file_extension": ".py",
   "mimetype": "text/x-python",
   "name": "python",
   "nbconvert_exporter": "python",
   "pygments_lexer": "ipython3",
   "version": "3.7.4"
  }
 },
 "nbformat": 4,
 "nbformat_minor": 2
}
