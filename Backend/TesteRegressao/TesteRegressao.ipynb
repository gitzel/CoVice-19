{
 "cells": [
  {
   "cell_type": "code",
   "execution_count": 1,
   "metadata": {},
   "outputs": [],
   "source": [
    "import pandas as pd\n",
    "import numpy as np\n",
    "import matplotlib.pyplot as plt\n",
    "import seaborn as sns\n",
    "%matplotlib inline"
   ]
  },
  {
   "cell_type": "code",
   "execution_count": 389,
   "metadata": {},
   "outputs": [],
   "source": [
    "df = pd.read_csv('Fish.csv')"
   ]
  },
  {
   "cell_type": "code",
   "execution_count": 390,
   "metadata": {},
   "outputs": [],
   "source": [
    "df = df.drop('Species', 1)\n",
    "cs = df.columns"
   ]
  },
  {
   "cell_type": "code",
   "execution_count": 374,
   "metadata": {},
   "outputs": [
    {
     "data": {
      "text/html": [
       "<div>\n",
       "<style scoped>\n",
       "    .dataframe tbody tr th:only-of-type {\n",
       "        vertical-align: middle;\n",
       "    }\n",
       "\n",
       "    .dataframe tbody tr th {\n",
       "        vertical-align: top;\n",
       "    }\n",
       "\n",
       "    .dataframe thead th {\n",
       "        text-align: right;\n",
       "    }\n",
       "</style>\n",
       "<table border=\"1\" class=\"dataframe\">\n",
       "  <thead>\n",
       "    <tr style=\"text-align: right;\">\n",
       "      <th></th>\n",
       "      <th>Weight</th>\n",
       "      <th>Length1</th>\n",
       "      <th>Length2</th>\n",
       "      <th>Length3</th>\n",
       "      <th>Height</th>\n",
       "      <th>Width</th>\n",
       "    </tr>\n",
       "  </thead>\n",
       "  <tbody>\n",
       "    <tr>\n",
       "      <td>0</td>\n",
       "      <td>242.0</td>\n",
       "      <td>23.2</td>\n",
       "      <td>25.4</td>\n",
       "      <td>30.0</td>\n",
       "      <td>11.5200</td>\n",
       "      <td>4.0200</td>\n",
       "    </tr>\n",
       "    <tr>\n",
       "      <td>1</td>\n",
       "      <td>290.0</td>\n",
       "      <td>24.0</td>\n",
       "      <td>26.3</td>\n",
       "      <td>31.2</td>\n",
       "      <td>12.4800</td>\n",
       "      <td>4.3056</td>\n",
       "    </tr>\n",
       "    <tr>\n",
       "      <td>2</td>\n",
       "      <td>340.0</td>\n",
       "      <td>23.9</td>\n",
       "      <td>26.5</td>\n",
       "      <td>31.1</td>\n",
       "      <td>12.3778</td>\n",
       "      <td>4.6961</td>\n",
       "    </tr>\n",
       "    <tr>\n",
       "      <td>3</td>\n",
       "      <td>363.0</td>\n",
       "      <td>26.3</td>\n",
       "      <td>29.0</td>\n",
       "      <td>33.5</td>\n",
       "      <td>12.7300</td>\n",
       "      <td>4.4555</td>\n",
       "    </tr>\n",
       "    <tr>\n",
       "      <td>4</td>\n",
       "      <td>430.0</td>\n",
       "      <td>26.5</td>\n",
       "      <td>29.0</td>\n",
       "      <td>34.0</td>\n",
       "      <td>12.4440</td>\n",
       "      <td>5.1340</td>\n",
       "    </tr>\n",
       "  </tbody>\n",
       "</table>\n",
       "</div>"
      ],
      "text/plain": [
       "   Weight  Length1  Length2  Length3   Height   Width\n",
       "0   242.0     23.2     25.4     30.0  11.5200  4.0200\n",
       "1   290.0     24.0     26.3     31.2  12.4800  4.3056\n",
       "2   340.0     23.9     26.5     31.1  12.3778  4.6961\n",
       "3   363.0     26.3     29.0     33.5  12.7300  4.4555\n",
       "4   430.0     26.5     29.0     34.0  12.4440  5.1340"
      ]
     },
     "execution_count": 374,
     "metadata": {},
     "output_type": "execute_result"
    }
   ],
   "source": [
    "df.head()"
   ]
  },
  {
   "cell_type": "markdown",
   "metadata": {},
   "source": [
    "Normalizando"
   ]
  },
  {
   "cell_type": "code",
   "execution_count": 397,
   "metadata": {},
   "outputs": [
    {
     "ename": "TypeError",
     "evalue": "Index does not support mutable operations",
     "output_type": "error",
     "traceback": [
      "\u001b[1;31m---------------------------------------------------------------------------\u001b[0m",
      "\u001b[1;31mTypeError\u001b[0m                                 Traceback (most recent call last)",
      "\u001b[1;32m<ipython-input-397-f4df842bab8f>\u001b[0m in \u001b[0;36m<module>\u001b[1;34m\u001b[0m\n\u001b[0;32m      4\u001b[0m \u001b[0mdf\u001b[0m \u001b[1;33m=\u001b[0m \u001b[0mpd\u001b[0m\u001b[1;33m.\u001b[0m\u001b[0mDataFrame\u001b[0m\u001b[1;33m(\u001b[0m\u001b[0mdf\u001b[0m\u001b[1;33m,\u001b[0m \u001b[0mcolumns\u001b[0m \u001b[1;33m=\u001b[0m \u001b[0mcs\u001b[0m\u001b[1;33m)\u001b[0m\u001b[1;33m\u001b[0m\u001b[1;33m\u001b[0m\u001b[0m\n\u001b[0;32m      5\u001b[0m \u001b[1;33m\u001b[0m\u001b[0m\n\u001b[1;32m----> 6\u001b[1;33m \u001b[0mdf\u001b[0m\u001b[1;33m.\u001b[0m\u001b[0mcolumns\u001b[0m\u001b[1;33m[\u001b[0m\u001b[1;36m0\u001b[0m\u001b[1;33m]\u001b[0m \u001b[1;33m=\u001b[0m \u001b[1;34m'AAAA'\u001b[0m\u001b[1;33m\u001b[0m\u001b[1;33m\u001b[0m\u001b[0m\n\u001b[0m\u001b[0;32m      7\u001b[0m \u001b[1;33m\u001b[0m\u001b[0m\n\u001b[0;32m      8\u001b[0m \u001b[0mdf\u001b[0m\u001b[1;33m\u001b[0m\u001b[1;33m\u001b[0m\u001b[0m\n",
      "\u001b[1;32m~\\Anaconda3\\lib\\site-packages\\pandas\\core\\indexes\\base.py\u001b[0m in \u001b[0;36m__setitem__\u001b[1;34m(self, key, value)\u001b[0m\n\u001b[0;32m   4258\u001b[0m \u001b[1;33m\u001b[0m\u001b[0m\n\u001b[0;32m   4259\u001b[0m     \u001b[1;32mdef\u001b[0m \u001b[0m__setitem__\u001b[0m\u001b[1;33m(\u001b[0m\u001b[0mself\u001b[0m\u001b[1;33m,\u001b[0m \u001b[0mkey\u001b[0m\u001b[1;33m,\u001b[0m \u001b[0mvalue\u001b[0m\u001b[1;33m)\u001b[0m\u001b[1;33m:\u001b[0m\u001b[1;33m\u001b[0m\u001b[1;33m\u001b[0m\u001b[0m\n\u001b[1;32m-> 4260\u001b[1;33m         \u001b[1;32mraise\u001b[0m \u001b[0mTypeError\u001b[0m\u001b[1;33m(\u001b[0m\u001b[1;34m\"Index does not support mutable operations\"\u001b[0m\u001b[1;33m)\u001b[0m\u001b[1;33m\u001b[0m\u001b[1;33m\u001b[0m\u001b[0m\n\u001b[0m\u001b[0;32m   4261\u001b[0m \u001b[1;33m\u001b[0m\u001b[0m\n\u001b[0;32m   4262\u001b[0m     \u001b[1;32mdef\u001b[0m \u001b[0m__getitem__\u001b[0m\u001b[1;33m(\u001b[0m\u001b[0mself\u001b[0m\u001b[1;33m,\u001b[0m \u001b[0mkey\u001b[0m\u001b[1;33m)\u001b[0m\u001b[1;33m:\u001b[0m\u001b[1;33m\u001b[0m\u001b[1;33m\u001b[0m\u001b[0m\n",
      "\u001b[1;31mTypeError\u001b[0m: Index does not support mutable operations"
     ]
    }
   ],
   "source": [
    "from sklearn import preprocessing\n",
    "normalizer = preprocessing.Normalizer().fit(df)\n",
    "df = normalizer.transform(df)\n",
    "df = pd.DataFrame(df, columns = cs)\n",
    "\n",
    "df.columns[0] = 'AAAA'\n",
    "\n",
    "df"
   ]
  },
  {
   "cell_type": "markdown",
   "metadata": {},
   "source": [
    "Treinando"
   ]
  },
  {
   "cell_type": "code",
   "execution_count": 392,
   "metadata": {},
   "outputs": [],
   "source": [
    "from sklearn.model_selection import train_test_split\n",
    "\n",
    "x_train, x_test, y_train, y_test = train_test_split(df.drop('Weight',axis=1), \n",
    "                                                    df['Weight'], test_size=0.30)"
   ]
  },
  {
   "cell_type": "code",
   "execution_count": 257,
   "metadata": {},
   "outputs": [],
   "source": [
    "from sklearn.linear_model import LinearRegression"
   ]
  },
  {
   "cell_type": "code",
   "execution_count": 393,
   "metadata": {},
   "outputs": [],
   "source": [
    "lm = LinearRegression()\n",
    "lm.fit(x_train, y_train)\n",
    "predict = lm.predict(x_test)"
   ]
  },
  {
   "cell_type": "code",
   "execution_count": 342,
   "metadata": {},
   "outputs": [
    {
     "data": {
      "text/plain": [
       "array([[ 6.54143391e-16, -2.90957182e-16,  1.25192417e-15,\n",
       "         1.00000000e+00],\n",
       "       [ 5.13194458e-01, -5.27511004e+00,  1.15775030e+00,\n",
       "         4.37719192e+00],\n",
       "       [ 5.37709926e-01, -3.97732542e+00,  4.83349350e+00,\n",
       "        -4.19481310e-01]])"
      ]
     },
     "execution_count": 342,
     "metadata": {},
     "output_type": "execute_result"
    }
   ],
   "source": [
    "lm.coef_"
   ]
  },
  {
   "cell_type": "code",
   "execution_count": 394,
   "metadata": {
    "scrolled": true
   },
   "outputs": [
    {
     "data": {
      "text/plain": [
       "[[0.9933226509246684, 1.026698143795687],\n",
       " [0.9901345863509444, 1.012965005434591],\n",
       " [0.985941713383111, 0.9869285966973774],\n",
       " [0.9970782727151969, 1.0524410448117667],\n",
       " [0.9524252459267849, 0.9151556467359654],\n",
       " [0.9961997649572775, 1.0408082774602392],\n",
       " [0.9947471951896605, 1.012386105853141],\n",
       " [0.9965962173834365, 1.0392210893630678],\n",
       " [0.9967268067080987, 1.037292346373423],\n",
       " [0.9895118920693602, 1.0075964603744518],\n",
       " [0.9970082613547565, 1.0392750908004602],\n",
       " [0.953845325845756, 0.8773945362542926],\n",
       " [0.9815526100071975, 0.9853314492749065],\n",
       " [0.9955528996558926, 1.0248693789513212],\n",
       " [0.9948022236304617, 1.0371152644443473],\n",
       " [0.9971762905132984, 1.045733224310136],\n",
       " [0.521604068409411, 0.5342878118182447],\n",
       " [0.37208387869706483, 0.40133323662543496],\n",
       " [0.9604856332060531, 0.911480271822149],\n",
       " [0.4177146259985701, 0.4775250547253903],\n",
       " [0.8983989212814627, 0.8081651579421169],\n",
       " [0.4401656977075471, 0.39668449911938464],\n",
       " [0.8355160690997249, 0.7061854021322711],\n",
       " [0.9976537941996858, 1.0567778023823173],\n",
       " [0.44554665209619404, 0.42233218244727366],\n",
       " [0.9874637174015786, 0.9753154196149907],\n",
       " [0.8432734633191835, 0.7114864133261466],\n",
       " [0.9878926607483064, 1.0052787340821923],\n",
       " [0.9670772306071496, 0.8935968701710202],\n",
       " [0.9904646405375339, 1.0126413692525804],\n",
       " [0.6197585154047021, 0.5628747634192268],\n",
       " [0.9814696977829076, 0.9719624687091188],\n",
       " [0.9752161464278041, 0.9446838043744321],\n",
       " [0.8750780354647056, 0.7425458688513801],\n",
       " [0.984251130942076, 0.9567113447168237],\n",
       " [0.9969525232255623, 1.0521797265108115],\n",
       " [0.9869788230859917, 0.9883738258414413],\n",
       " [0.9687667010405148, 0.9246115528459552],\n",
       " [0.9761792521368533, 0.9524609240192522],\n",
       " [0.9974702633618262, 1.046766730973115],\n",
       " [0.9977264227266995, 1.0622142608187253],\n",
       " [0.9803733217178725, 0.9653146274586808],\n",
       " [0.9868266462536309, 0.9832846199742526],\n",
       " [0.47436292859680174, 0.6079234759414098],\n",
       " [0.9746160145744239, 0.9385367753811535],\n",
       " [0.9237999630969145, 0.8756825014766838],\n",
       " [0.9839807997093547, 0.9753904908496864],\n",
       " [0.9277432274719093, 0.8698027934987493]]"
      ]
     },
     "execution_count": 394,
     "metadata": {},
     "output_type": "execute_result"
    }
   ],
   "source": [
    "res = []\n",
    "y_true = y_test.to_list()\n",
    "\n",
    "mini =  999\n",
    "maxi = -999\n",
    "\n",
    "i = 0\n",
    "\n",
    "for i in range(0, len(predict)):\n",
    "    n = []\n",
    "    \n",
    "    n.append(y_true[i])\n",
    "    n.append(predict[i])\n",
    "    res.append(n)\n",
    "    \n",
    "res"
   ]
  },
  {
   "cell_type": "code",
   "execution_count": 395,
   "metadata": {},
   "outputs": [
    {
     "data": {
      "text/plain": [
       "array([[0.9814697 , 0.09409131, 0.10301376, 0.1216698 , 0.0467212 ,\n",
       "        0.01630375]])"
      ]
     },
     "execution_count": 395,
     "metadata": {},
     "output_type": "execute_result"
    }
   ],
   "source": [
    "normalizer.transform([[242.0, 23.2, 25.4, 30.0, 11.5200, 4.0200]])"
   ]
  },
  {
   "cell_type": "code",
   "execution_count": 396,
   "metadata": {},
   "outputs": [
    {
     "data": {
      "text/html": [
       "<div>\n",
       "<style scoped>\n",
       "    .dataframe tbody tr th:only-of-type {\n",
       "        vertical-align: middle;\n",
       "    }\n",
       "\n",
       "    .dataframe tbody tr th {\n",
       "        vertical-align: top;\n",
       "    }\n",
       "\n",
       "    .dataframe thead th {\n",
       "        text-align: right;\n",
       "    }\n",
       "</style>\n",
       "<table border=\"1\" class=\"dataframe\">\n",
       "  <thead>\n",
       "    <tr style=\"text-align: right;\">\n",
       "      <th></th>\n",
       "      <th>Weight</th>\n",
       "      <th>Length1</th>\n",
       "      <th>Length2</th>\n",
       "      <th>Length3</th>\n",
       "      <th>Height</th>\n",
       "      <th>Width</th>\n",
       "    </tr>\n",
       "  </thead>\n",
       "  <tbody>\n",
       "    <tr>\n",
       "      <td>0</td>\n",
       "      <td>0.981470</td>\n",
       "      <td>0.094091</td>\n",
       "      <td>0.103014</td>\n",
       "      <td>0.121670</td>\n",
       "      <td>0.046721</td>\n",
       "      <td>0.016304</td>\n",
       "    </tr>\n",
       "    <tr>\n",
       "      <td>1</td>\n",
       "      <td>0.985942</td>\n",
       "      <td>0.081595</td>\n",
       "      <td>0.089415</td>\n",
       "      <td>0.106074</td>\n",
       "      <td>0.042429</td>\n",
       "      <td>0.014638</td>\n",
       "    </tr>\n",
       "    <tr>\n",
       "      <td>2</td>\n",
       "      <td>0.989711</td>\n",
       "      <td>0.069571</td>\n",
       "      <td>0.077139</td>\n",
       "      <td>0.090529</td>\n",
       "      <td>0.036031</td>\n",
       "      <td>0.013670</td>\n",
       "    </tr>\n",
       "    <tr>\n",
       "      <td>3</td>\n",
       "      <td>0.989406</td>\n",
       "      <td>0.071684</td>\n",
       "      <td>0.079043</td>\n",
       "      <td>0.091309</td>\n",
       "      <td>0.034697</td>\n",
       "      <td>0.012144</td>\n",
       "    </tr>\n",
       "    <tr>\n",
       "      <td>4</td>\n",
       "      <td>0.992301</td>\n",
       "      <td>0.061153</td>\n",
       "      <td>0.066923</td>\n",
       "      <td>0.078461</td>\n",
       "      <td>0.028717</td>\n",
       "      <td>0.011848</td>\n",
       "    </tr>\n",
       "    <tr>\n",
       "      <td>...</td>\n",
       "      <td>...</td>\n",
       "      <td>...</td>\n",
       "      <td>...</td>\n",
       "      <td>...</td>\n",
       "      <td>...</td>\n",
       "      <td>...</td>\n",
       "    </tr>\n",
       "    <tr>\n",
       "      <td>154</td>\n",
       "      <td>0.491631</td>\n",
       "      <td>0.463423</td>\n",
       "      <td>0.491631</td>\n",
       "      <td>0.539988</td>\n",
       "      <td>0.084238</td>\n",
       "      <td>0.056159</td>\n",
       "    </tr>\n",
       "    <tr>\n",
       "      <td>155</td>\n",
       "      <td>0.521604</td>\n",
       "      <td>0.455430</td>\n",
       "      <td>0.482678</td>\n",
       "      <td>0.525497</td>\n",
       "      <td>0.094589</td>\n",
       "      <td>0.049397</td>\n",
       "    </tr>\n",
       "    <tr>\n",
       "      <td>156</td>\n",
       "      <td>0.474363</td>\n",
       "      <td>0.470475</td>\n",
       "      <td>0.505469</td>\n",
       "      <td>0.536574</td>\n",
       "      <td>0.088535</td>\n",
       "      <td>0.048828</td>\n",
       "    </tr>\n",
       "    <tr>\n",
       "      <td>157</td>\n",
       "      <td>0.619759</td>\n",
       "      <td>0.415270</td>\n",
       "      <td>0.449875</td>\n",
       "      <td>0.478189</td>\n",
       "      <td>0.090378</td>\n",
       "      <td>0.065034</td>\n",
       "    </tr>\n",
       "    <tr>\n",
       "      <td>158</td>\n",
       "      <td>0.603857</td>\n",
       "      <td>0.418755</td>\n",
       "      <td>0.455169</td>\n",
       "      <td>0.491582</td>\n",
       "      <td>0.088976</td>\n",
       "      <td>0.057024</td>\n",
       "    </tr>\n",
       "  </tbody>\n",
       "</table>\n",
       "<p>159 rows × 6 columns</p>\n",
       "</div>"
      ],
      "text/plain": [
       "       Weight   Length1   Length2   Length3    Height     Width\n",
       "0    0.981470  0.094091  0.103014  0.121670  0.046721  0.016304\n",
       "1    0.985942  0.081595  0.089415  0.106074  0.042429  0.014638\n",
       "2    0.989711  0.069571  0.077139  0.090529  0.036031  0.013670\n",
       "3    0.989406  0.071684  0.079043  0.091309  0.034697  0.012144\n",
       "4    0.992301  0.061153  0.066923  0.078461  0.028717  0.011848\n",
       "..        ...       ...       ...       ...       ...       ...\n",
       "154  0.491631  0.463423  0.491631  0.539988  0.084238  0.056159\n",
       "155  0.521604  0.455430  0.482678  0.525497  0.094589  0.049397\n",
       "156  0.474363  0.470475  0.505469  0.536574  0.088535  0.048828\n",
       "157  0.619759  0.415270  0.449875  0.478189  0.090378  0.065034\n",
       "158  0.603857  0.418755  0.455169  0.491582  0.088976  0.057024\n",
       "\n",
       "[159 rows x 6 columns]"
      ]
     },
     "execution_count": 396,
     "metadata": {},
     "output_type": "execute_result"
    }
   ],
   "source": [
    "df"
   ]
  },
  {
   "cell_type": "code",
   "execution_count": null,
   "metadata": {},
   "outputs": [],
   "source": []
  }
 ],
 "metadata": {
  "kernelspec": {
   "display_name": "Python 3",
   "language": "python",
   "name": "python3"
  },
  "language_info": {
   "codemirror_mode": {
    "name": "ipython",
    "version": 3
   },
   "file_extension": ".py",
   "mimetype": "text/x-python",
   "name": "python",
   "nbconvert_exporter": "python",
   "pygments_lexer": "ipython3",
   "version": "3.7.4"
  }
 },
 "nbformat": 4,
 "nbformat_minor": 2
}
